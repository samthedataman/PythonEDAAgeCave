{
  "nbformat": 4,
  "nbformat_minor": 0,
  "metadata": {
    "colab": {
      "name": "EDA for Age Cave.ipynb",
      "provenance": [],
      "collapsed_sections": [],
      "toc_visible": true
    },
    "kernelspec": {
      "name": "python3",
      "display_name": "Python 3"
    }
  },
  "cells": [
    {
      "cell_type": "code",
      "metadata": {
        "id": "LEjjcl84_nnq",
        "colab": {
          "base_uri": "https://localhost:8080/"
        },
        "outputId": "0ecef373-34a4-41ec-a6e2-405e5b156e00"
      },
      "source": [
        "#mount google drive\n",
        "from google.colab import drive\n",
        "drive.mount('/content/gdrive')\n"
      ],
      "execution_count": 18,
      "outputs": [
        {
          "output_type": "stream",
          "text": [
            "Drive already mounted at /content/gdrive; to attempt to forcibly remount, call drive.mount(\"/content/gdrive\", force_remount=True).\n"
          ],
          "name": "stdout"
        }
      ]
    },
    {
      "cell_type": "markdown",
      "metadata": {
        "id": "nMeOnja3FuZ7"
      },
      "source": [
        "#Loading Packages and Data"
      ]
    },
    {
      "cell_type": "code",
      "metadata": {
        "id": "-WLMguDp_x0M",
        "colab": {
          "base_uri": "https://localhost:8080/",
          "height": 384
        },
        "outputId": "25bdad16-6b38-49ca-b997-36490dbc61b7"
      },
      "source": [
        "import pandas as pd\n",
        "%matplotlib inline \n",
        "import matplotlib.pyplot as plt\n",
        "import seaborn as sns\n",
        "import numpy as np\n",
        "#Load Data\n",
        "data ='/content/gdrive/My Drive/Data Science with Python Spring 2020/Untitled spreadsheet - Sheet1.csv'\n",
        "#load to dataframe\n",
        "df = pd.read_csv(data)\n",
        "df"
      ],
      "execution_count": 19,
      "outputs": [
        {
          "output_type": "execute_result",
          "data": {
            "text/html": [
              "<div>\n",
              "<style scoped>\n",
              "    .dataframe tbody tr th:only-of-type {\n",
              "        vertical-align: middle;\n",
              "    }\n",
              "\n",
              "    .dataframe tbody tr th {\n",
              "        vertical-align: top;\n",
              "    }\n",
              "\n",
              "    .dataframe thead th {\n",
              "        text-align: right;\n",
              "    }\n",
              "</style>\n",
              "<table border=\"1\" class=\"dataframe\">\n",
              "  <thead>\n",
              "    <tr style=\"text-align: right;\">\n",
              "      <th></th>\n",
              "      <th>Index</th>\n",
              "      <th>True Age</th>\n",
              "      <th>Age Felt</th>\n",
              "      <th>Age Difference</th>\n",
              "      <th>Zscore</th>\n",
              "      <th>Younger or Older</th>\n",
              "      <th>Comment</th>\n",
              "    </tr>\n",
              "  </thead>\n",
              "  <tbody>\n",
              "    <tr>\n",
              "      <th>0</th>\n",
              "      <td>1</td>\n",
              "      <td>69.0</td>\n",
              "      <td>11</td>\n",
              "      <td>58</td>\n",
              "      <td>2.659740</td>\n",
              "      <td>Feel Younger</td>\n",
              "      <td>Brain</td>\n",
              "    </tr>\n",
              "    <tr>\n",
              "      <th>1</th>\n",
              "      <td>1</td>\n",
              "      <td>80.0</td>\n",
              "      <td>23</td>\n",
              "      <td>57</td>\n",
              "      <td>2.592872</td>\n",
              "      <td>Feel Younger</td>\n",
              "      <td>NaN</td>\n",
              "    </tr>\n",
              "    <tr>\n",
              "      <th>2</th>\n",
              "      <td>1</td>\n",
              "      <td>65.0</td>\n",
              "      <td>117</td>\n",
              "      <td>52</td>\n",
              "      <td>2.258533</td>\n",
              "      <td>Feel Older</td>\n",
              "      <td>Drank Magic Water</td>\n",
              "    </tr>\n",
              "    <tr>\n",
              "      <th>3</th>\n",
              "      <td>1</td>\n",
              "      <td>75.0</td>\n",
              "      <td>25</td>\n",
              "      <td>50</td>\n",
              "      <td>2.124798</td>\n",
              "      <td>Feel Younger</td>\n",
              "      <td>NaN</td>\n",
              "    </tr>\n",
              "    <tr>\n",
              "      <th>4</th>\n",
              "      <td>1</td>\n",
              "      <td>67.0</td>\n",
              "      <td>18</td>\n",
              "      <td>49</td>\n",
              "      <td>2.057930</td>\n",
              "      <td>Feel Younger</td>\n",
              "      <td>NaN</td>\n",
              "    </tr>\n",
              "    <tr>\n",
              "      <th>...</th>\n",
              "      <td>...</td>\n",
              "      <td>...</td>\n",
              "      <td>...</td>\n",
              "      <td>...</td>\n",
              "      <td>...</td>\n",
              "      <td>...</td>\n",
              "      <td>...</td>\n",
              "    </tr>\n",
              "    <tr>\n",
              "      <th>129</th>\n",
              "      <td>1</td>\n",
              "      <td>72.0</td>\n",
              "      <td>42</td>\n",
              "      <td>30</td>\n",
              "      <td>0.787443</td>\n",
              "      <td>Feel Younger</td>\n",
              "      <td>NaN</td>\n",
              "    </tr>\n",
              "    <tr>\n",
              "      <th>130</th>\n",
              "      <td>1</td>\n",
              "      <td>58.0</td>\n",
              "      <td>25</td>\n",
              "      <td>33</td>\n",
              "      <td>0.988046</td>\n",
              "      <td>Feel Younger</td>\n",
              "      <td>NaN</td>\n",
              "    </tr>\n",
              "    <tr>\n",
              "      <th>131</th>\n",
              "      <td>1</td>\n",
              "      <td>66.0</td>\n",
              "      <td>66</td>\n",
              "      <td>0</td>\n",
              "      <td>-1.218590</td>\n",
              "      <td>Feel The Same Age</td>\n",
              "      <td>NaN</td>\n",
              "    </tr>\n",
              "    <tr>\n",
              "      <th>132</th>\n",
              "      <td>1</td>\n",
              "      <td>69.0</td>\n",
              "      <td>40</td>\n",
              "      <td>29</td>\n",
              "      <td>0.720575</td>\n",
              "      <td>Feel Younger</td>\n",
              "      <td>NaN</td>\n",
              "    </tr>\n",
              "    <tr>\n",
              "      <th>133</th>\n",
              "      <td>1</td>\n",
              "      <td>59.0</td>\n",
              "      <td>42</td>\n",
              "      <td>17</td>\n",
              "      <td>-0.081838</td>\n",
              "      <td>Feel Younger</td>\n",
              "      <td>NaN</td>\n",
              "    </tr>\n",
              "  </tbody>\n",
              "</table>\n",
              "<p>134 rows × 7 columns</p>\n",
              "</div>"
            ],
            "text/plain": [
              "     Index  True Age  Age Felt  ...    Zscore   Younger or Older            Comment\n",
              "0        1      69.0        11  ...  2.659740       Feel Younger              Brain\n",
              "1        1      80.0        23  ...  2.592872       Feel Younger                NaN\n",
              "2        1      65.0       117  ...  2.258533         Feel Older  Drank Magic Water\n",
              "3        1      75.0        25  ...  2.124798       Feel Younger                NaN\n",
              "4        1      67.0        18  ...  2.057930       Feel Younger                NaN\n",
              "..     ...       ...       ...  ...       ...                ...                ...\n",
              "129      1      72.0        42  ...  0.787443       Feel Younger                NaN\n",
              "130      1      58.0        25  ...  0.988046       Feel Younger                NaN\n",
              "131      1      66.0        66  ... -1.218590  Feel The Same Age                NaN\n",
              "132      1      69.0        40  ...  0.720575       Feel Younger                NaN\n",
              "133      1      59.0        42  ... -0.081838       Feel Younger                NaN\n",
              "\n",
              "[134 rows x 7 columns]"
            ]
          },
          "metadata": {
            "tags": []
          },
          "execution_count": 19
        }
      ]
    },
    {
      "cell_type": "markdown",
      "metadata": {
        "id": "GigNMWzqF0ZT"
      },
      "source": [
        "# Changing Data Types & Recoding Columns"
      ]
    },
    {
      "cell_type": "code",
      "metadata": {
        "id": "4pAaftgPFzV9",
        "colab": {
          "base_uri": "https://localhost:8080/",
          "height": 316
        },
        "outputId": "5f5a01a2-6547-4d04-d02a-3b0cf2a00f8c"
      },
      "source": [
        "#Change Data Type\n",
        "df['True Age'] = df['True Age'].astype('int')\n",
        "#Bucket Ages into Age Groups\n",
        "df['Age_Groups'] = np.where(df['True Age'] <= 15, \"Child\",\n",
        "                            np.where((df['True Age'] >15) & (df['True Age'] <25),\"Young Adult\",\n",
        "                            np.where((df['True Age'] >25) & (df['True Age'] <=50),\"Adult\",        \n",
        "                            np.where((df['True Age'] >50) & (df['True Age'] <=65),\"Older Adult\",\"Senior\"))))                             \n",
        "#show columns generated\n",
        "for cols in df:\n",
        "  print(cols)\n",
        "df.head()"
      ],
      "execution_count": 20,
      "outputs": [
        {
          "output_type": "stream",
          "text": [
            "Index\n",
            "True Age\n",
            "Age Felt\n",
            "Age Difference\n",
            "Zscore\n",
            "Younger or Older\n",
            "Comment\n",
            "Age_Groups\n"
          ],
          "name": "stdout"
        },
        {
          "output_type": "execute_result",
          "data": {
            "text/html": [
              "<div>\n",
              "<style scoped>\n",
              "    .dataframe tbody tr th:only-of-type {\n",
              "        vertical-align: middle;\n",
              "    }\n",
              "\n",
              "    .dataframe tbody tr th {\n",
              "        vertical-align: top;\n",
              "    }\n",
              "\n",
              "    .dataframe thead th {\n",
              "        text-align: right;\n",
              "    }\n",
              "</style>\n",
              "<table border=\"1\" class=\"dataframe\">\n",
              "  <thead>\n",
              "    <tr style=\"text-align: right;\">\n",
              "      <th></th>\n",
              "      <th>Index</th>\n",
              "      <th>True Age</th>\n",
              "      <th>Age Felt</th>\n",
              "      <th>Age Difference</th>\n",
              "      <th>Zscore</th>\n",
              "      <th>Younger or Older</th>\n",
              "      <th>Comment</th>\n",
              "      <th>Age_Groups</th>\n",
              "    </tr>\n",
              "  </thead>\n",
              "  <tbody>\n",
              "    <tr>\n",
              "      <th>0</th>\n",
              "      <td>1</td>\n",
              "      <td>69</td>\n",
              "      <td>11</td>\n",
              "      <td>58</td>\n",
              "      <td>2.659740</td>\n",
              "      <td>Feel Younger</td>\n",
              "      <td>Brain</td>\n",
              "      <td>Senior</td>\n",
              "    </tr>\n",
              "    <tr>\n",
              "      <th>1</th>\n",
              "      <td>1</td>\n",
              "      <td>80</td>\n",
              "      <td>23</td>\n",
              "      <td>57</td>\n",
              "      <td>2.592872</td>\n",
              "      <td>Feel Younger</td>\n",
              "      <td>NaN</td>\n",
              "      <td>Senior</td>\n",
              "    </tr>\n",
              "    <tr>\n",
              "      <th>2</th>\n",
              "      <td>1</td>\n",
              "      <td>65</td>\n",
              "      <td>117</td>\n",
              "      <td>52</td>\n",
              "      <td>2.258533</td>\n",
              "      <td>Feel Older</td>\n",
              "      <td>Drank Magic Water</td>\n",
              "      <td>Older Adult</td>\n",
              "    </tr>\n",
              "    <tr>\n",
              "      <th>3</th>\n",
              "      <td>1</td>\n",
              "      <td>75</td>\n",
              "      <td>25</td>\n",
              "      <td>50</td>\n",
              "      <td>2.124798</td>\n",
              "      <td>Feel Younger</td>\n",
              "      <td>NaN</td>\n",
              "      <td>Senior</td>\n",
              "    </tr>\n",
              "    <tr>\n",
              "      <th>4</th>\n",
              "      <td>1</td>\n",
              "      <td>67</td>\n",
              "      <td>18</td>\n",
              "      <td>49</td>\n",
              "      <td>2.057930</td>\n",
              "      <td>Feel Younger</td>\n",
              "      <td>NaN</td>\n",
              "      <td>Senior</td>\n",
              "    </tr>\n",
              "  </tbody>\n",
              "</table>\n",
              "</div>"
            ],
            "text/plain": [
              "   Index  True Age  Age Felt  ...  Younger or Older            Comment   Age_Groups\n",
              "0      1        69        11  ...      Feel Younger              Brain       Senior\n",
              "1      1        80        23  ...      Feel Younger                NaN       Senior\n",
              "2      1        65       117  ...        Feel Older  Drank Magic Water  Older Adult\n",
              "3      1        75        25  ...      Feel Younger                NaN       Senior\n",
              "4      1        67        18  ...      Feel Younger                NaN       Senior\n",
              "\n",
              "[5 rows x 8 columns]"
            ]
          },
          "metadata": {
            "tags": []
          },
          "execution_count": 20
        }
      ]
    },
    {
      "cell_type": "markdown",
      "metadata": {
        "id": "SGQib40gF8Up"
      },
      "source": [
        "\n",
        "#Exploratory Data Analysis (EDA)"
      ]
    },
    {
      "cell_type": "code",
      "metadata": {
        "id": "xXKVRqh0GTKQ",
        "colab": {
          "base_uri": "https://localhost:8080/"
        },
        "outputId": "4931c3e9-9544-47c6-d5b4-05d2e4171061"
      },
      "source": [
        "#total participants  = 134 Particpants\n",
        "df['Index'].sum()"
      ],
      "execution_count": 21,
      "outputs": [
        {
          "output_type": "execute_result",
          "data": {
            "text/plain": [
              "134"
            ]
          },
          "metadata": {
            "tags": []
          },
          "execution_count": 21
        }
      ]
    },
    {
      "cell_type": "code",
      "metadata": {
        "id": "Ijev-GELC4SX",
        "colab": {
          "base_uri": "https://localhost:8080/",
          "height": 296
        },
        "outputId": "8b2bafa7-65b4-44ae-cae1-e9bdadf3bef8"
      },
      "source": [
        "\n",
        "subx = df['Age_Groups'].value_counts().to_frame()\n",
        "#show the age groups by count\n",
        "#43 Adults , 35 Older Adults, 34 Seniors, 15 Young Adults and 7 Childeren)\n",
        "subx.sort_values(by =['Age_Groups'], ascending=False)\n",
        "labels = subx['Age_Groups']\n",
        "fig = plt.figure()\n",
        "ax = fig.add_subplot(111)\n",
        "g = plt.bar(subx.index, height = subx.Age_Groups)\n",
        "\n",
        "g[0].set_color('k')\n",
        "plt.title(\"Count of Persons Per Age Group\")\n",
        "plt.xlabel(g)\n",
        "plt.xlabel(\"Age Group\")\n",
        "plt.ylabel(\"Count\")\n",
        "#good function to label graph\n",
        "def autolabel(rects):\n",
        "    # attach some text labels\n",
        "    for rect in rects:\n",
        "        height = rect.get_height()\n",
        "        ax.text(rect.get_x() + rect.get_width()/2., 1.05*height,\n",
        "                '%d' % int(height),\n",
        "                ha='center', va='bottom')\n",
        "\n",
        "autolabel(g)\n"
      ],
      "execution_count": 22,
      "outputs": [
        {
          "output_type": "display_data",
          "data": {
            "image/png": "[encoded data removed]",
            "text/plain": [
              "<Figure size 432x288 with 1 Axes>"
            ]
          },
          "metadata": {
            "tags": [],
            "needs_background": "light"
          }
        }
      ]
    },
    {
      "cell_type": "markdown",
      "metadata": {
        "id": "C7fQKJZHK7Ak"
      },
      "source": [
        "**How many people feel yonger than they are? How Many feel older? How many feel the same age?**"
      ]
    },
    {
      "cell_type": "code",
      "metadata": {
        "id": "n8IUduoiK1RF",
        "colab": {
          "base_uri": "https://localhost:8080/",
          "height": 312
        },
        "outputId": "3e3d23c5-15d5-46b6-928a-2cbca9a12da3"
      },
      "source": [
        "#subsetting data frame by condition in Younger or Older column\n",
        "Feel_Older = df[(df['Younger or Older'] == 'Feel Older')].count() \n",
        "Feel_Younger = df[(df['Younger or Older'] == 'Feel Younger')].count()\n",
        "Feel_SameAge = df[(df['Younger or Older'] == 'Feel The Same Age')].count()\n",
        "#counting by subset and dividing by total participants\n",
        "print (\"Feel Older:\",round(Feel_Older['Index'].sum()/df['Index'].sum()*100),\"%\")\n",
        "print (\"Feel Younger:\",round(Feel_Younger['Index'].sum()/df['Index'].sum()*100),\"%\")\n",
        "print (\"Feel Same Age:\",round(Feel_SameAge['Index'].sum()/df['Index'].sum()*100),\"%\")\n",
        "#plottting results\n",
        "j = df['Younger or Older'].value_counts().to_frame()\n",
        "\n",
        "\n",
        "#show the age groups by count\n",
        "#43 Adults , 35 Older Adults, 34 Seniors, 15 Young Adults and 7 Childeren)\n",
        "j.sort_values(by= ['Younger or Older'], ascending=False)\n",
        "labels = j.index\n",
        "fig = plt.figure()\n",
        "plt.title(\"Percentage Breakdown of Felt Age by Group\")\n",
        "m = plt.pie(x = j['Younger or Older'], labels = labels, autopct='%1.1f%%')\n",
        "\n"
      ],
      "execution_count": 23,
      "outputs": [
        {
          "output_type": "stream",
          "text": [
            "Feel Older: 10 %\n",
            "Feel Younger: 84 %\n",
            "Feel Same Age: 7 %\n"
          ],
          "name": "stdout"
        },
        {
          "output_type": "display_data",
          "data": {
            "image/png": "[encoded data removed]",
            "text/plain": [
              "<Figure size 432x288 with 1 Axes>"
            ]
          },
          "metadata": {
            "tags": []
          }
        }
      ]
    },
    {
      "cell_type": "markdown",
      "metadata": {
        "id": "5EzJDy4NMbtj"
      },
      "source": [
        "Wow it looks like 84% of participants feel younger than there actuall age!\n",
        "\n",
        "#Age Group Breakdown: What % Of Each Group Feels Younger / Older/ Same Age"
      ]
    },
    {
      "cell_type": "code",
      "metadata": {
        "id": "OS_o4Q5oK1vs",
        "colab": {
          "base_uri": "https://localhost:8080/"
        },
        "outputId": "43f46829-5e7e-4da6-c310-61ca6c2fb379"
      },
      "source": [
        "#Subsetting Each DataFrame by Age Group\n",
        "Children = df[(df['Age_Groups'] == 'Child')]\n",
        "YoungAdult = df[(df['Age_Groups'] == 'Young Adult')]\n",
        "Adult = df[(df['Age_Groups'] == 'Adult')]\n",
        "OlderAdult = df[(df['Age_Groups'] == 'Older Adult')]\n",
        "Senior = df[(df['Age_Groups'] == 'Senior')]\n",
        "#Further Subtting by Age Felt by Participant\n",
        "Senior_Feel_Younger = Senior[(Senior['Younger or Older'] == 'Feel Younger')].count()\n",
        "Older_Adult_Feel_Younger = OlderAdult[(OlderAdult['Younger or Older'] == 'Feel Younger')].count()\n",
        "Adult_Feel_Younger = Adult[(Adult['Younger or Older'] == 'Feel Younger')].count()\n",
        "Young_Adult_Feel_Younger = YoungAdult[(YoungAdult['Younger or Older'] == 'Feel Younger')].count()\n",
        "Children_Feel_Younger = Children[(Children['Younger or Older'] == 'Feel Younger')].count()\n",
        "\n",
        "print (\" % of Seniors who feel younger:\",round(Senior_Feel_Younger['Index'].sum()/Senior['Index'].sum()*100),\"%\")\n",
        "print (\" % of Older Adults who feel younger:\",round(Older_Adult_Feel_Younger ['Index'].sum()/OlderAdult['Index'].sum()*100),\"%\")\n",
        "print (\" % of Adults who feel younger:\",round(Adult_Feel_Younger['Index'].sum()/Adult['Index'].sum()*100),\"%\")\n",
        "print (\" % of Younger Adults who feel younger:\",round(Young_Adult_Feel_Younger['Index'].sum()/YoungAdult['Index'].sum()*100),\"%\")\n",
        "print (\" % of Children who feel younger:\",round(Children_Feel_Younger['Index'].sum()/Children['Index'].sum()*100),\"%\")"
      ],
      "execution_count": 24,
      "outputs": [
        {
          "output_type": "stream",
          "text": [
            " % of Seniors who feel younger: 88 %\n",
            " % of Older Adults who feel younger: 91 %\n",
            " % of Adults who feel younger: 86 %\n",
            " % of Younger Adults who feel younger: 60 %\n",
            " % of Children who feel younger: 57 %\n"
          ],
          "name": "stdout"
        }
      ]
    },
    {
      "cell_type": "markdown",
      "metadata": {
        "id": "jkkpdu6oRHTk"
      },
      "source": [
        "It appears that Older Adults feel Younger more often than any other group with Seniors and Adults trailing. Children appear to feel younger the least out of these groups**"
      ]
    },
    {
      "cell_type": "markdown",
      "metadata": {
        "id": "SS6lcoGpQjFe"
      },
      "source": [
        "**Who feels the Same Age?**"
      ]
    },
    {
      "cell_type": "code",
      "metadata": {
        "id": "0og0kyjHQfEd",
        "colab": {
          "base_uri": "https://localhost:8080/"
        },
        "outputId": "d92e0743-2c90-4578-a88d-f3e9794b4030"
      },
      "source": [
        "\n",
        "Senior_Feel_Younger = Senior[(Senior['Younger or Older'] == 'Feel Older')].count()\n",
        "Older_Adult_Feel_Younger = OlderAdult[(OlderAdult['Younger or Older'] == 'Feel Older')].count()\n",
        "Adult_Feel_Younger = Adult[(Adult['Younger or Older'] == 'Feel Older')].count()\n",
        "Young_Adult_Feel_Younger = YoungAdult[(YoungAdult['Younger or Older'] == 'Feel Older')].count()\n",
        "Children_Feel_Younger = Children[(Children['Younger or Older'] == 'Feel Older')].count()\n",
        "\n",
        "print (\" % of Seniors who Feel Older:\",round(Senior_Feel_Younger['Index'].sum()/Senior['Index'].sum()*100),\"%\")\n",
        "print (\" % of Older Adults who Feel Older:\",round(Older_Adult_Feel_Younger ['Index'].sum()/OlderAdult['Index'].sum()*100),\"%\")\n",
        "print (\" % of Adults who Feel Older:\",round(Adult_Feel_Younger['Index'].sum()/Adult['Index'].sum()*100),\"%\")\n",
        "print (\" % of Younger Adults Feel Older:\",round(Young_Adult_Feel_Younger['Index'].sum()/YoungAdult['Index'].sum()*100),\"%\")\n",
        "print (\" % of Children Feel Older:\",round(Children_Feel_Younger['Index'].sum()/Children['Index'].sum()*100),\"%\")"
      ],
      "execution_count": 25,
      "outputs": [
        {
          "output_type": "stream",
          "text": [
            " % of Seniors who Feel Older: 3 %\n",
            " % of Older Adults who Feel Older: 3 %\n",
            " % of Adults who Feel Older: 9 %\n",
            " % of Younger Adults Feel Older: 40 %\n",
            " % of Children Feel Older: 14 %\n"
          ],
          "name": "stdout"
        }
      ]
    },
    {
      "cell_type": "markdown",
      "metadata": {
        "id": "cY_tjpBNSwT2"
      },
      "source": [
        "It appears that  40% of Younger Adults feel older! This is an interesting find with the Children group trailing\n"
      ]
    },
    {
      "cell_type": "markdown",
      "metadata": {
        "id": "TkvVMq22R1Hx"
      },
      "source": [
        "**Who feels the Same Age?**"
      ]
    },
    {
      "cell_type": "code",
      "metadata": {
        "id": "1OLhckFQR2eQ",
        "cellView": "form",
        "colab": {
          "base_uri": "https://localhost:8080/"
        },
        "outputId": "8d5713d6-9b18-4da6-aa0d-27e312ee8491"
      },
      "source": [
        "#@title Default title text\n",
        "\n",
        "Senior_Feel_Younger = Senior[(Senior['Younger or Older'] == 'Feel The Same Age')].count()\n",
        "Older_Adult_Feel_Younger = OlderAdult[(OlderAdult['Younger or Older'] == 'Feel The Same Age')].count()\n",
        "Adult_Feel_Younger = Adult[(Adult['Younger or Older'] == 'Feel The Same Age')].count()\n",
        "Young_Adult_Feel_Younger = YoungAdult[(YoungAdult['Younger or Older'] == 'Feel The Same Age')].count()\n",
        "Children_Feel_Younger = Children[(Children['Younger or Older'] == 'Feel The Same Age')].count()\n",
        "\n",
        "print (\" % of Seniors who feel the same age:\",round(Senior_Feel_Younger['Index'].sum()/Senior['Index'].sum()*100),\"%\")\n",
        "print (\" % of Older Adults who feel the same age:\",round(Older_Adult_Feel_Younger ['Index'].sum()/OlderAdult['Index'].sum()*100),\"%\")\n",
        "print (\" % of Adults who feel the same age:\",round(Adult_Feel_Younger['Index'].sum()/Adult['Index'].sum()*100),\"%\")\n",
        "print (\" % of Younger Adults feel the same age:\",round(Young_Adult_Feel_Younger['Index'].sum()/YoungAdult['Index'].sum()*100),\"%\")\n",
        "print (\" % of Children feel the same age:\",round(Children_Feel_Younger['Index'].sum()/Children['Index'].sum()*100),\"%\")"
      ],
      "execution_count": 26,
      "outputs": [
        {
          "output_type": "stream",
          "text": [
            " % of Seniors who feel the same age: 9 %\n",
            " % of Older Adults who feel the same age: 6 %\n",
            " % of Adults who feel the same age: 5 %\n",
            " % of Younger Adults feel the same age: 0 %\n",
            " % of Children feel the same age: 29 %\n"
          ],
          "name": "stdout"
        }
      ]
    },
    {
      "cell_type": "markdown",
      "metadata": {
        "id": "JGwtvvsfTP13"
      },
      "source": [
        "It appears that Children feel the same age more often than any other group with Seniors and Older Adults trailing. \n"
      ]
    },
    {
      "cell_type": "markdown",
      "metadata": {
        "id": "vn2_0gWBGE7y"
      },
      "source": [
        "**Mean Age Difference for those feeling Younger**"
      ]
    },
    {
      "cell_type": "code",
      "metadata": {
        "id": "QPo5FWr2E7OF",
        "colab": {
          "base_uri": "https://localhost:8080/",
          "height": 216
        },
        "outputId": "bddf3464-375c-411d-cbde-fa0dfd28aa40"
      },
      "source": [
        "#subset df by those feeling Younge\n",
        "subset = df[(df['Younger or Older']== 'Feel Younger')]\n",
        "subset.groupby('Age_Groups')['Age Difference'].mean().to_frame()"
      ],
      "execution_count": 27,
      "outputs": [
        {
          "output_type": "execute_result",
          "data": {
            "text/html": [
              "<div>\n",
              "<style scoped>\n",
              "    .dataframe tbody tr th:only-of-type {\n",
              "        vertical-align: middle;\n",
              "    }\n",
              "\n",
              "    .dataframe tbody tr th {\n",
              "        vertical-align: top;\n",
              "    }\n",
              "\n",
              "    .dataframe thead th {\n",
              "        text-align: right;\n",
              "    }\n",
              "</style>\n",
              "<table border=\"1\" class=\"dataframe\">\n",
              "  <thead>\n",
              "    <tr style=\"text-align: right;\">\n",
              "      <th></th>\n",
              "      <th>Age Difference</th>\n",
              "    </tr>\n",
              "    <tr>\n",
              "      <th>Age_Groups</th>\n",
              "      <th></th>\n",
              "    </tr>\n",
              "  </thead>\n",
              "  <tbody>\n",
              "    <tr>\n",
              "      <th>Adult</th>\n",
              "      <td>10.918919</td>\n",
              "    </tr>\n",
              "    <tr>\n",
              "      <th>Child</th>\n",
              "      <td>4.000000</td>\n",
              "    </tr>\n",
              "    <tr>\n",
              "      <th>Older Adult</th>\n",
              "      <td>26.312500</td>\n",
              "    </tr>\n",
              "    <tr>\n",
              "      <th>Senior</th>\n",
              "      <td>31.466667</td>\n",
              "    </tr>\n",
              "    <tr>\n",
              "      <th>Young Adult</th>\n",
              "      <td>4.888889</td>\n",
              "    </tr>\n",
              "  </tbody>\n",
              "</table>\n",
              "</div>"
            ],
            "text/plain": [
              "             Age Difference\n",
              "Age_Groups                 \n",
              "Adult             10.918919\n",
              "Child              4.000000\n",
              "Older Adult       26.312500\n",
              "Senior            31.466667\n",
              "Young Adult        4.888889"
            ]
          },
          "metadata": {
            "tags": []
          },
          "execution_count": 27
        }
      ]
    },
    {
      "cell_type": "markdown",
      "metadata": {
        "id": "sl23YtNQU9BJ"
      },
      "source": [
        "Of those who feel yonger, Seniors on Average feel 31 Years Younger with Older Adults trailing at 26 years younger"
      ]
    },
    {
      "cell_type": "code",
      "metadata": {
        "id": "KWIMx0RgVIxV",
        "colab": {
          "base_uri": "https://localhost:8080/",
          "height": 394
        },
        "outputId": "208d8f98-8da1-464b-b8d8-e30b8706ee2b"
      },
      "source": [
        "#subset df by those feeling Younger\n",
        "subset = df[(df['Younger or Older']== 'Feel Older')]\n",
        "subset.groupby('Age_Groups')['Age Difference'].mean().plot(kind='barh', color ='pink', title = 'a')\n",
        "subset.groupby('Age_Groups')['Age Difference'].mean()"
      ],
      "execution_count": 28,
      "outputs": [
        {
          "output_type": "execute_result",
          "data": {
            "text/plain": [
              "Age_Groups\n",
              "Adult          21.000000\n",
              "Child           4.000000\n",
              "Older Adult    52.000000\n",
              "Senior         11.000000\n",
              "Young Adult     6.833333\n",
              "Name: Age Difference, dtype: float64"
            ]
          },
          "metadata": {
            "tags": []
          },
          "execution_count": 28
        },
        {
          "output_type": "display_data",
          "data": {
            "image/png": "[encoded data removed]",
            "text/plain": [
              "<Figure size 432x288 with 1 Axes>"
            ]
          },
          "metadata": {
            "tags": [],
            "needs_background": "light"
          }
        }
      ]
    },
    {
      "cell_type": "markdown",
      "metadata": {
        "id": "bYGyatBAWAfe"
      },
      "source": [
        "Of those who feel older, Older Adults on Average feel 52 Years Older and Adults trailing at 21 years older. But I beleive their are some outliers in the data..lets check!"
      ]
    },
    {
      "cell_type": "markdown",
      "metadata": {
        "id": "I-r2OuZMGDFA"
      },
      "source": [
        "\n",
        "# Descriptive Analysis of Age Difference"
      ]
    },
    {
      "cell_type": "code",
      "metadata": {
        "id": "yWdvIoUEiN1S",
        "colab": {
          "base_uri": "https://localhost:8080/",
          "height": 296
        },
        "outputId": "683e3f3c-261c-4b4d-9096-338b9f211f71"
      },
      "source": [
        "#First lets do a basic box and whiskers plot\n",
        "import seaborn as sns\n",
        "sns.boxplot(x = df['Age Difference'])"
      ],
      "execution_count": 29,
      "outputs": [
        {
          "output_type": "execute_result",
          "data": {
            "text/plain": [
              "<matplotlib.axes._subplots.AxesSubplot at 0x7fb54adcd3d0>"
            ]
          },
          "metadata": {
            "tags": []
          },
          "execution_count": 29
        },
        {
          "output_type": "display_data",
          "data": {
            "image/png": "[encoded data removed]",
            "text/plain": [
              "<Figure size 432x288 with 1 Axes>"
            ]
          },
          "metadata": {
            "tags": [],
            "needs_background": "light"
          }
        }
      ]
    },
    {
      "cell_type": "code",
      "metadata": {
        "id": "WdBrxrxAi_ol",
        "colab": {
          "base_uri": "https://localhost:8080/",
          "height": 296
        },
        "outputId": "4a3a8348-96d0-4164-8e11-5e7a9b3bbe7a"
      },
      "source": [
        "#lets do this across age groups just for fun!\n",
        "sns.boxplot(x = df['Age Difference'], y= df['Age_Groups'])\n",
        "sns.swarmplot(x = df['Age Difference'], y= df['Age_Groups'])"
      ],
      "execution_count": 30,
      "outputs": [
        {
          "output_type": "execute_result",
          "data": {
            "text/plain": [
              "<matplotlib.axes._subplots.AxesSubplot at 0x7fb54ad5f510>"
            ]
          },
          "metadata": {
            "tags": []
          },
          "execution_count": 30
        },
        {
          "output_type": "display_data",
          "data": {
            "image/png": "[encoded data removed]",
            "text/plain": [
              "<Figure size 432x288 with 1 Axes>"
            ]
          },
          "metadata": {
            "tags": [],
            "needs_background": "light"
          }
        }
      ]
    },
    {
      "cell_type": "code",
      "metadata": {
        "id": "Fmx0mRPZiEiB",
        "colab": {
          "base_uri": "https://localhost:8080/",
          "height": 312
        },
        "outputId": "36665f3c-9e5f-4ea6-ffbd-9d101f722a38"
      },
      "source": [
        "subset = df[(df['Younger or Older']== 'Feel Younger')]\n",
        "plt.title(\"True Age vs Age Felt\")\n",
        "plt.xlabel(\"True Age\")\n",
        "plt.ylabel(\"True Age - Felt Age\")\n",
        "plt.scatter(x = subset['True Age'], \n",
        "            y = subset['Age Difference'])\n"
      ],
      "execution_count": 31,
      "outputs": [
        {
          "output_type": "execute_result",
          "data": {
            "text/plain": [
              "<matplotlib.collections.PathCollection at 0x7fb54ac6f9d0>"
            ]
          },
          "metadata": {
            "tags": []
          },
          "execution_count": 31
        },
        {
          "output_type": "display_data",
          "data": {
            "image/png": "[encoded data removed]",
            "text/plain": [
              "<Figure size 432x288 with 1 Axes>"
            ]
          },
          "metadata": {
            "tags": [],
            "needs_background": "light"
          }
        }
      ]
    },
    {
      "cell_type": "markdown",
      "metadata": {
        "id": "HagF7eynkprL"
      },
      "source": [
        "**We see that there is a strong positive correlation between True Age and difference in (Actual Age - Felt Age). What this tells us is that as Seniors perceive themselves or feel less older than they are compared to other age groups ie the older you are the less old you feel**\n",
        "\n"
      ]
    },
    {
      "cell_type": "markdown",
      "metadata": {
        "id": "tlS8hD5PkzKD"
      },
      "source": [
        ""
      ]
    },
    {
      "cell_type": "code",
      "metadata": {
        "id": "Q2XgFPOxkpcO"
      },
      "source": [
        ""
      ],
      "execution_count": 31,
      "outputs": []
    },
    {
      "cell_type": "code",
      "metadata": {
        "id": "d3VOfj3yj48y",
        "colab": {
          "base_uri": "https://localhost:8080/",
          "height": 312
        },
        "outputId": "8b98333d-81ea-448a-a925-40e27e3ca8bb"
      },
      "source": [
        "subset = df[(df['Younger or Older']== 'Feel Older')]\n",
        "plt.title(\"True Age vs Age Felt\")\n",
        "plt.xlabel(\"True Age\")\n",
        "plt.ylabel(\"ABS(True Age - Felt Age)\")\n",
        "plt.scatter(x = subset['True Age'], \n",
        "            y = subset['Age Difference'])"
      ],
      "execution_count": 32,
      "outputs": [
        {
          "output_type": "execute_result",
          "data": {
            "text/plain": [
              "<matplotlib.collections.PathCollection at 0x7fb54abe5950>"
            ]
          },
          "metadata": {
            "tags": []
          },
          "execution_count": 32
        },
        {
          "output_type": "display_data",
          "data": {
            "image/png": "[encoded data removed]",
            "text/plain": [
              "<Figure size 432x288 with 1 Axes>"
            ]
          },
          "metadata": {
            "tags": [],
            "needs_background": "light"
          }
        }
      ]
    },
    {
      "cell_type": "markdown",
      "metadata": {
        "id": "0tvQpeqZiTTo"
      },
      "source": [
        "We see we have an outliers at 0 and 60. Meaning very few people felt they were the same age physically and they perceived mentally + We had one senior say they felt 117 so thats an outlier outright!"
      ]
    },
    {
      "cell_type": "markdown",
      "metadata": {
        "id": "rEuX1fpUk-89"
      },
      "source": [
        "We can use Z scores to find possible outliers and we use \n",
        "standard deviation (a measure of spread to do this)\n",
        "use average and mean"
      ]
    },
    {
      "cell_type": "code",
      "metadata": {
        "id": "L6luhBxBk6VK",
        "colab": {
          "base_uri": "https://localhost:8080/"
        },
        "outputId": "5e0c92ff-1faa-4f98-f64a-460a6006dc94"
      },
      "source": [
        "Average_Age_Difference = df['Age Difference'].mean()\n",
        "Standard_Deviation =round(df['Age Difference'].std())\n",
        "Min = df['Age Difference'].min()\n",
        "Max = df['Age Difference'].max()\n",
        "Mode = df['Age Difference'].mode()\n",
        "Median = df['Age Difference'].median()\n",
        "Range = Max-Min\n",
        "#Measuring Spead of Data Set\n",
        "print(\"Range =\", Range)\n",
        "print(\"Median =\", Median)\n",
        "print(\"Standard Deviation=\",Standard_Deviation)"
      ],
      "execution_count": 33,
      "outputs": [
        {
          "output_type": "stream",
          "text": [
            "Range = 58\n",
            "Median = 15.0\n",
            "Standard Deviation= 15\n"
          ],
          "name": "stdout"
        }
      ]
    },
    {
      "cell_type": "markdown",
      "metadata": {
        "id": "mweYRuNGbeqi"
      },
      "source": [
        "Thankfully Python is an awesome langauge for Stats use cases and we can print this in 1 line!"
      ]
    },
    {
      "cell_type": "code",
      "metadata": {
        "id": "D0iPWHpybl5Z",
        "colab": {
          "base_uri": "https://localhost:8080/",
          "height": 272
        },
        "outputId": "c7687b71-68de-4900-de4d-b5a5f67c9638"
      },
      "source": [
        "df.describe()"
      ],
      "execution_count": 34,
      "outputs": [
        {
          "output_type": "execute_result",
          "data": {
            "text/html": [
              "<div>\n",
              "<style scoped>\n",
              "    .dataframe tbody tr th:only-of-type {\n",
              "        vertical-align: middle;\n",
              "    }\n",
              "\n",
              "    .dataframe tbody tr th {\n",
              "        vertical-align: top;\n",
              "    }\n",
              "\n",
              "    .dataframe thead th {\n",
              "        text-align: right;\n",
              "    }\n",
              "</style>\n",
              "<table border=\"1\" class=\"dataframe\">\n",
              "  <thead>\n",
              "    <tr style=\"text-align: right;\">\n",
              "      <th></th>\n",
              "      <th>Index</th>\n",
              "      <th>True Age</th>\n",
              "      <th>Age Felt</th>\n",
              "      <th>Age Difference</th>\n",
              "      <th>Zscore</th>\n",
              "    </tr>\n",
              "  </thead>\n",
              "  <tbody>\n",
              "    <tr>\n",
              "      <th>count</th>\n",
              "      <td>134.0</td>\n",
              "      <td>134.000000</td>\n",
              "      <td>134.000000</td>\n",
              "      <td>134.000000</td>\n",
              "      <td>1.340000e+02</td>\n",
              "    </tr>\n",
              "    <tr>\n",
              "      <th>mean</th>\n",
              "      <td>1.0</td>\n",
              "      <td>47.492537</td>\n",
              "      <td>32.134328</td>\n",
              "      <td>18.223881</td>\n",
              "      <td>-1.664183e-11</td>\n",
              "    </tr>\n",
              "    <tr>\n",
              "      <th>std</th>\n",
              "      <td>0.0</td>\n",
              "      <td>20.656425</td>\n",
              "      <td>17.200188</td>\n",
              "      <td>14.954890</td>\n",
              "      <td>1.000000e+00</td>\n",
              "    </tr>\n",
              "    <tr>\n",
              "      <th>min</th>\n",
              "      <td>1.0</td>\n",
              "      <td>4.000000</td>\n",
              "      <td>1.000000</td>\n",
              "      <td>0.000000</td>\n",
              "      <td>-1.218590e+00</td>\n",
              "    </tr>\n",
              "    <tr>\n",
              "      <th>25%</th>\n",
              "      <td>1.0</td>\n",
              "      <td>29.000000</td>\n",
              "      <td>21.000000</td>\n",
              "      <td>6.000000</td>\n",
              "      <td>-8.173835e-01</td>\n",
              "    </tr>\n",
              "    <tr>\n",
              "      <th>50%</th>\n",
              "      <td>1.0</td>\n",
              "      <td>53.000000</td>\n",
              "      <td>29.000000</td>\n",
              "      <td>15.000000</td>\n",
              "      <td>-2.155737e-01</td>\n",
              "    </tr>\n",
              "    <tr>\n",
              "      <th>75%</th>\n",
              "      <td>1.0</td>\n",
              "      <td>65.000000</td>\n",
              "      <td>42.000000</td>\n",
              "      <td>28.000000</td>\n",
              "      <td>6.537072e-01</td>\n",
              "    </tr>\n",
              "    <tr>\n",
              "      <th>max</th>\n",
              "      <td>1.0</td>\n",
              "      <td>86.000000</td>\n",
              "      <td>117.000000</td>\n",
              "      <td>58.000000</td>\n",
              "      <td>2.659740e+00</td>\n",
              "    </tr>\n",
              "  </tbody>\n",
              "</table>\n",
              "</div>"
            ],
            "text/plain": [
              "       Index    True Age    Age Felt  Age Difference        Zscore\n",
              "count  134.0  134.000000  134.000000      134.000000  1.340000e+02\n",
              "mean     1.0   47.492537   32.134328       18.223881 -1.664183e-11\n",
              "std      0.0   20.656425   17.200188       14.954890  1.000000e+00\n",
              "min      1.0    4.000000    1.000000        0.000000 -1.218590e+00\n",
              "25%      1.0   29.000000   21.000000        6.000000 -8.173835e-01\n",
              "50%      1.0   53.000000   29.000000       15.000000 -2.155737e-01\n",
              "75%      1.0   65.000000   42.000000       28.000000  6.537072e-01\n",
              "max      1.0   86.000000  117.000000       58.000000  2.659740e+00"
            ]
          },
          "metadata": {
            "tags": []
          },
          "execution_count": 34
        }
      ]
    },
    {
      "cell_type": "markdown",
      "metadata": {
        "id": "xYokEZIalECz"
      },
      "source": [
        "**Lets plot a Kernel Distibution to see how skewed our data is**"
      ]
    },
    {
      "cell_type": "code",
      "metadata": {
        "id": "flhrWUMCHhE6",
        "colab": {
          "base_uri": "https://localhost:8080/",
          "height": 344
        },
        "outputId": "e9bf2feb-d4ab-4913-eec5-b59e47f798f4"
      },
      "source": [
        "import seaborn as sns\n",
        "import matplotlib.pyplot as plt\n",
        "import numpy as np\n",
        "sns.distplot(df['Age Difference'], kde= True, bins =10 , color = 'pink')\n",
        "plt.title(\"Kernel Density of Perceived Age Difference\")\n",
        "plt.xlabel(\"Distribution of Age Difference by Bin\")\n",
        "plt.ylabel(\"Age Difference in Years\")\n"
      ],
      "execution_count": 35,
      "outputs": [
        {
          "output_type": "stream",
          "text": [
            "/usr/local/lib/python3.7/dist-packages/seaborn/distributions.py:2557: FutureWarning: `distplot` is a deprecated function and will be removed in a future version. Please adapt your code to use either `displot` (a figure-level function with similar flexibility) or `histplot` (an axes-level function for histograms).\n",
            "  warnings.warn(msg, FutureWarning)\n"
          ],
          "name": "stderr"
        },
        {
          "output_type": "execute_result",
          "data": {
            "text/plain": [
              "Text(0, 0.5, 'Age Difference in Years')"
            ]
          },
          "metadata": {
            "tags": []
          },
          "execution_count": 35
        },
        {
          "output_type": "display_data",
          "data": {
            "image/png": "[encoded data removed]",
            "text/plain": [
              "<Figure size 432x288 with 1 Axes>"
            ]
          },
          "metadata": {
            "tags": [],
            "needs_background": "light"
          }
        }
      ]
    },
    {
      "cell_type": "markdown",
      "metadata": {
        "id": "Bf05eAkElPpt"
      },
      "source": [
        "It appears that our data is skewed right (positive) lets tackle this issue so we can make infernces about our data set!"
      ]
    },
    {
      "cell_type": "markdown",
      "metadata": {
        "id": "_7VV84Gpkacr"
      },
      "source": [
        "# **Using Z scores to remove outliers and Standardize Data**"
      ]
    },
    {
      "cell_type": "code",
      "metadata": {
        "id": "uI49mqcYkYRX",
        "colab": {
          "base_uri": "https://localhost:8080/"
        },
        "outputId": "9982f1e8-d993-4f4d-dddf-41492d3e6734"
      },
      "source": [
        "#Creating Z score column\n",
        "df['Zscore_Python'] = ((df['Age Difference']-Average_Age_Difference)/Standard_Deviation)\n",
        "#A rule of thummb is to remove any data point that is 3sigma away  but because our sample is smalll lets just use 1 sigma\n",
        "#subset dataframe by sd\n",
        "df_sd_sub = df[(df['Zscore_Python'] < 1) & (df['Zscore_Python'] > -1)]\n",
        "# we have removed roughly 40 rows\n",
        "print(\"Rows in New Outlier Free dataset:\",df_sd_sub['Index'].count())\n",
        "print(\"Rows in Origonal dataset:\",df['Index'].count())"
      ],
      "execution_count": 36,
      "outputs": [
        {
          "output_type": "stream",
          "text": [
            "Rows in New Outlier Free dataset: 92\n",
            "Rows in Origonal dataset: 134\n"
          ],
          "name": "stdout"
        }
      ]
    },
    {
      "cell_type": "markdown",
      "metadata": {
        "id": "ZSzCtAVuvs9Y"
      },
      "source": [
        "**New Smoother Data Set**"
      ]
    },
    {
      "cell_type": "code",
      "metadata": {
        "id": "nI-rmazHc0aO",
        "colab": {
          "base_uri": "https://localhost:8080/"
        },
        "outputId": "1a57c620-732c-47a4-e072-0ed47cedecfe"
      },
      "source": [
        "print(\"New Min:\",df_sd_sub['Age Difference'].max())\n",
        "print(\"New Max:\",df_sd_sub['Age Difference'].min())\n",
        "print(\"Old Min:\",df['Age Difference'].max())\n",
        "print(\"Old Max:\",df['Age Difference'].min())"
      ],
      "execution_count": 37,
      "outputs": [
        {
          "output_type": "stream",
          "text": [
            "New Min: 33\n",
            "New Max: 4\n",
            "Old Min: 58\n",
            "Old Max: 0\n"
          ],
          "name": "stdout"
        }
      ]
    },
    {
      "cell_type": "markdown",
      "metadata": {
        "id": "lnmZVkhcqnjE"
      },
      "source": [
        "Showing how we have reduced our spead to create a smoother distribution"
      ]
    },
    {
      "cell_type": "code",
      "metadata": {
        "id": "M39LVBY2osHd",
        "colab": {
          "base_uri": "https://localhost:8080/",
          "height": 582
        },
        "outputId": "3f677e6b-9254-4aed-a0e2-923ccdd1e859"
      },
      "source": [
        "#plottining outlier free data\n",
        "sns.distplot(df_sd_sub['Zscore_Python'], kde= True, bins =10 , color = 'pink')\n",
        "plt.title(\"Kernel Density of Perceived Age Difference\")\n",
        "plt.xlabel(\"Distribution of Age Difference by Bin\")\n",
        "plt.ylabel(\"Age Difference in Years\")\n",
        "df_sd_sub.describe()"
      ],
      "execution_count": 38,
      "outputs": [
        {
          "output_type": "stream",
          "text": [
            "/usr/local/lib/python3.7/dist-packages/seaborn/distributions.py:2557: FutureWarning: `distplot` is a deprecated function and will be removed in a future version. Please adapt your code to use either `displot` (a figure-level function with similar flexibility) or `histplot` (an axes-level function for histograms).\n",
            "  warnings.warn(msg, FutureWarning)\n"
          ],
          "name": "stderr"
        },
        {
          "output_type": "execute_result",
          "data": {
            "text/html": [
              "<div>\n",
              "<style scoped>\n",
              "    .dataframe tbody tr th:only-of-type {\n",
              "        vertical-align: middle;\n",
              "    }\n",
              "\n",
              "    .dataframe tbody tr th {\n",
              "        vertical-align: top;\n",
              "    }\n",
              "\n",
              "    .dataframe thead th {\n",
              "        text-align: right;\n",
              "    }\n",
              "</style>\n",
              "<table border=\"1\" class=\"dataframe\">\n",
              "  <thead>\n",
              "    <tr style=\"text-align: right;\">\n",
              "      <th></th>\n",
              "      <th>Index</th>\n",
              "      <th>True Age</th>\n",
              "      <th>Age Felt</th>\n",
              "      <th>Age Difference</th>\n",
              "      <th>Zscore</th>\n",
              "      <th>Zscore_Python</th>\n",
              "    </tr>\n",
              "  </thead>\n",
              "  <tbody>\n",
              "    <tr>\n",
              "      <th>count</th>\n",
              "      <td>92.0</td>\n",
              "      <td>92.000000</td>\n",
              "      <td>92.000000</td>\n",
              "      <td>92.000000</td>\n",
              "      <td>92.000000</td>\n",
              "      <td>92.000000</td>\n",
              "    </tr>\n",
              "    <tr>\n",
              "      <th>mean</th>\n",
              "      <td>1.0</td>\n",
              "      <td>46.641304</td>\n",
              "      <td>33.293478</td>\n",
              "      <td>16.347826</td>\n",
              "      <td>-0.125448</td>\n",
              "      <td>-0.125070</td>\n",
              "    </tr>\n",
              "    <tr>\n",
              "      <th>std</th>\n",
              "      <td>0.0</td>\n",
              "      <td>19.190532</td>\n",
              "      <td>13.815534</td>\n",
              "      <td>9.042555</td>\n",
              "      <td>0.604655</td>\n",
              "      <td>0.602837</td>\n",
              "    </tr>\n",
              "    <tr>\n",
              "      <th>min</th>\n",
              "      <td>1.0</td>\n",
              "      <td>9.000000</td>\n",
              "      <td>3.000000</td>\n",
              "      <td>4.000000</td>\n",
              "      <td>-0.951119</td>\n",
              "      <td>-0.948259</td>\n",
              "    </tr>\n",
              "    <tr>\n",
              "      <th>25%</th>\n",
              "      <td>1.0</td>\n",
              "      <td>29.750000</td>\n",
              "      <td>25.000000</td>\n",
              "      <td>8.000000</td>\n",
              "      <td>-0.683648</td>\n",
              "      <td>-0.681592</td>\n",
              "    </tr>\n",
              "    <tr>\n",
              "      <th>50%</th>\n",
              "      <td>1.0</td>\n",
              "      <td>48.500000</td>\n",
              "      <td>31.000000</td>\n",
              "      <td>15.500000</td>\n",
              "      <td>-0.182140</td>\n",
              "      <td>-0.181592</td>\n",
              "    </tr>\n",
              "    <tr>\n",
              "      <th>75%</th>\n",
              "      <td>1.0</td>\n",
              "      <td>62.000000</td>\n",
              "      <td>45.000000</td>\n",
              "      <td>23.250000</td>\n",
              "      <td>0.336085</td>\n",
              "      <td>0.335075</td>\n",
              "    </tr>\n",
              "    <tr>\n",
              "      <th>max</th>\n",
              "      <td>1.0</td>\n",
              "      <td>81.000000</td>\n",
              "      <td>60.000000</td>\n",
              "      <td>33.000000</td>\n",
              "      <td>0.988046</td>\n",
              "      <td>0.985075</td>\n",
              "    </tr>\n",
              "  </tbody>\n",
              "</table>\n",
              "</div>"
            ],
            "text/plain": [
              "       Index   True Age   Age Felt  Age Difference     Zscore  Zscore_Python\n",
              "count   92.0  92.000000  92.000000       92.000000  92.000000      92.000000\n",
              "mean     1.0  46.641304  33.293478       16.347826  -0.125448      -0.125070\n",
              "std      0.0  19.190532  13.815534        9.042555   0.604655       0.602837\n",
              "min      1.0   9.000000   3.000000        4.000000  -0.951119      -0.948259\n",
              "25%      1.0  29.750000  25.000000        8.000000  -0.683648      -0.681592\n",
              "50%      1.0  48.500000  31.000000       15.500000  -0.182140      -0.181592\n",
              "75%      1.0  62.000000  45.000000       23.250000   0.336085       0.335075\n",
              "max      1.0  81.000000  60.000000       33.000000   0.988046       0.985075"
            ]
          },
          "metadata": {
            "tags": []
          },
          "execution_count": 38
        },
        {
          "output_type": "display_data",
          "data": {
            "image/png": "[encoded data removed]",
            "text/plain": [
              "<Figure size 432x288 with 1 Axes>"
            ]
          },
          "metadata": {
            "tags": [],
            "needs_background": "light"
          }
        }
      ]
    },
    {
      "cell_type": "markdown",
      "metadata": {
        "id": "QoXKwdkWo3Ll"
      },
      "source": [
        "Nice! We were able to come up with a more normal distribution lets try one more technique ![alt text](https://)"
      ]
    },
    {
      "cell_type": "markdown",
      "metadata": {
        "id": "XrEB9eiMgLbF"
      },
      "source": [
        "It looks like our data is still positively skewed right lets try and normalize with *log*"
      ]
    },
    {
      "cell_type": "markdown",
      "metadata": {
        "id": "x_cwXviDy1tI"
      },
      "source": [
        "# Log Scaling\n"
      ]
    },
    {
      "cell_type": "code",
      "metadata": {
        "id": "xQeKPS0OfPVT",
        "colab": {
          "base_uri": "https://localhost:8080/",
          "height": 344
        },
        "outputId": "ed74b232-d3e0-4026-93b5-309a07b0d9c8"
      },
      "source": [
        "df_sd_sub[\"Age Difference Log\"] = df[\"Age Difference\"].apply(np.log)\n",
        "#remove infinate values\n",
        "df_sd_sub = df.replace([np.inf, -np.inf], np.nan)\n",
        "\n",
        "\n",
        "sns.distplot(df_sd_sub.iloc[:,3], kde= True, bins =10 , color = 'pink')\n",
        "plt.title(\"Kernel Density of Perceived Age Difference\")\n",
        "plt.xlabel(\"Years of Age Difference by Bin\")\n",
        "plt.ylabel(\"Proportion\")\n"
      ],
      "execution_count": 56,
      "outputs": [
        {
          "output_type": "stream",
          "text": [
            "/usr/local/lib/python3.7/dist-packages/seaborn/distributions.py:2557: FutureWarning: `distplot` is a deprecated function and will be removed in a future version. Please adapt your code to use either `displot` (a figure-level function with similar flexibility) or `histplot` (an axes-level function for histograms).\n",
            "  warnings.warn(msg, FutureWarning)\n"
          ],
          "name": "stderr"
        },
        {
          "output_type": "execute_result",
          "data": {
            "text/plain": [
              "Text(0, 0.5, 'Proportion')"
            ]
          },
          "metadata": {
            "tags": []
          },
          "execution_count": 56
        },
        {
          "output_type": "display_data",
          "data": {
            "image/png": "[encoded data removed]",
            "text/plain": [
              "<Figure size 432x288 with 1 Axes>"
            ]
          },
          "metadata": {
            "tags": [],
            "needs_background": "light"
          }
        }
      ]
    },
    {
      "cell_type": "markdown",
      "metadata": {
        "id": "gHiTIgvHrMXx"
      },
      "source": [
        "This was not that successful but is a good technique to try when trying to normalize data"
      ]
    },
    {
      "cell_type": "markdown",
      "metadata": {
        "id": "TAjZsckcsL_P"
      },
      "source": [
        "# Min Max Scaling\n"
      ]
    },
    {
      "cell_type": "code",
      "metadata": {
        "id": "ZwhsgGpXrRyo",
        "colab": {
          "base_uri": "https://localhost:8080/"
        },
        "outputId": "79794c6e-b516-47d5-bda2-86156fee703b"
      },
      "source": [
        "#Min-Max normalization: z x-min(x)/ max(x)-min(x)\n",
        "#Pretty straight foward formular lets make\n",
        "#it in Python REMEBER OUR MIN MAX VARIABLE (;\n",
        "\n",
        "MinVar = df['Age Difference'].min()\n",
        "MaxVar = df['Age Difference'].max()\n",
        "\n",
        "df['Min&Max'] = (df['Age Difference']-MinVar)/((MaxVar)-MinVar)\n",
        "#now we see our values are non negative between 1 and 0\n",
        "df['Min&Max'].head(5)"
      ],
      "execution_count": 57,
      "outputs": [
        {
          "output_type": "execute_result",
          "data": {
            "text/plain": [
              "0    1.000000\n",
              "1    0.982759\n",
              "2    0.896552\n",
              "3    0.862069\n",
              "4    0.844828\n",
              "Name: Min&Max, dtype: float64"
            ]
          },
          "metadata": {
            "tags": []
          },
          "execution_count": 57
        }
      ]
    },
    {
      "cell_type": "code",
      "metadata": {
        "id": "BGRR-wgwtfoO",
        "colab": {
          "base_uri": "https://localhost:8080/",
          "height": 344
        },
        "outputId": "0893e207-2a57-42df-d836-ea288362b2d3"
      },
      "source": [
        "sns.distplot(df['Min&Max'], kde= True, bins =10 , color = 'pink')\n",
        "plt.title(\"Kernel Density of Perceived Age Difference\")\n",
        "plt.xlabel(\"Years of Age Difference by Bin\")\n",
        "plt.ylabel(\"Proportion\")"
      ],
      "execution_count": 58,
      "outputs": [
        {
          "output_type": "stream",
          "text": [
            "/usr/local/lib/python3.7/dist-packages/seaborn/distributions.py:2557: FutureWarning: `distplot` is a deprecated function and will be removed in a future version. Please adapt your code to use either `displot` (a figure-level function with similar flexibility) or `histplot` (an axes-level function for histograms).\n",
            "  warnings.warn(msg, FutureWarning)\n"
          ],
          "name": "stderr"
        },
        {
          "output_type": "execute_result",
          "data": {
            "text/plain": [
              "Text(0, 0.5, 'Proportion')"
            ]
          },
          "metadata": {
            "tags": []
          },
          "execution_count": 58
        },
        {
          "output_type": "display_data",
          "data": {
            "image/png": "[encoded data removed]",
            "text/plain": [
              "<Figure size 432x288 with 1 Axes>"
            ]
          },
          "metadata": {
            "tags": [],
            "needs_background": "light"
          }
        }
      ]
    },
    {
      "cell_type": "markdown",
      "metadata": {
        "id": "8AGED6hXvj6d"
      },
      "source": [
        "Min Max isnt seem to be working so lets try Cub root/square root"
      ]
    },
    {
      "cell_type": "code",
      "metadata": {
        "id": "Tm189TYlynLD"
      },
      "source": [
        ""
      ],
      "execution_count": null,
      "outputs": []
    },
    {
      "cell_type": "markdown",
      "metadata": {
        "id": "3gIjbfyxyn1P"
      },
      "source": [
        "# Square Root Scaling"
      ]
    },
    {
      "cell_type": "code",
      "metadata": {
        "id": "JR8TXDT3t1xT",
        "colab": {
          "base_uri": "https://localhost:8080/",
          "height": 582
        },
        "outputId": "b2afab45-a970-4ab2-b031-5c77f77b836d"
      },
      "source": [
        "df['Square Root'] = np.sqrt(df['Age Difference'])\n",
        "\n",
        "sns.distplot(df['Zscore_Python'], kde= True, bins =10 , color = 'blue')\n",
        "plt.title(\"Kernel Density of Perceived Age Difference\")\n",
        "plt.xlabel(\" Years of Age Difference by Bin\")\n",
        "plt.ylabel(\"Proportion\")\n",
        "\n",
        "sqmean = df['Square Root'].mean()\n",
        "sd1 = df['Square Root'].std()\n",
        "\n",
        "df['Zscore_PythonSQ'] = ((df['Square Root']-sqmean)/sd1)\n",
        "\n",
        "df.describe()\n"
      ],
      "execution_count": 59,
      "outputs": [
        {
          "output_type": "stream",
          "text": [
            "/usr/local/lib/python3.7/dist-packages/seaborn/distributions.py:2557: FutureWarning: `distplot` is a deprecated function and will be removed in a future version. Please adapt your code to use either `displot` (a figure-level function with similar flexibility) or `histplot` (an axes-level function for histograms).\n",
            "  warnings.warn(msg, FutureWarning)\n"
          ],
          "name": "stderr"
        },
        {
          "output_type": "execute_result",
          "data": {
            "text/html": [
              "<div>\n",
              "<style scoped>\n",
              "    .dataframe tbody tr th:only-of-type {\n",
              "        vertical-align: middle;\n",
              "    }\n",
              "\n",
              "    .dataframe tbody tr th {\n",
              "        vertical-align: top;\n",
              "    }\n",
              "\n",
              "    .dataframe thead th {\n",
              "        text-align: right;\n",
              "    }\n",
              "</style>\n",
              "<table border=\"1\" class=\"dataframe\">\n",
              "  <thead>\n",
              "    <tr style=\"text-align: right;\">\n",
              "      <th></th>\n",
              "      <th>Index</th>\n",
              "      <th>True Age</th>\n",
              "      <th>Age Felt</th>\n",
              "      <th>Age Difference</th>\n",
              "      <th>Zscore</th>\n",
              "      <th>Zscore_Python</th>\n",
              "      <th>Min&amp;Max</th>\n",
              "      <th>Square Root</th>\n",
              "      <th>Zscore_PythonSQ</th>\n",
              "    </tr>\n",
              "  </thead>\n",
              "  <tbody>\n",
              "    <tr>\n",
              "      <th>count</th>\n",
              "      <td>134.0</td>\n",
              "      <td>134.000000</td>\n",
              "      <td>134.000000</td>\n",
              "      <td>134.000000</td>\n",
              "      <td>1.340000e+02</td>\n",
              "      <td>1.340000e+02</td>\n",
              "      <td>134.000000</td>\n",
              "      <td>134.000000</td>\n",
              "      <td>1.340000e+02</td>\n",
              "    </tr>\n",
              "    <tr>\n",
              "      <th>mean</th>\n",
              "      <td>1.0</td>\n",
              "      <td>47.492537</td>\n",
              "      <td>32.134328</td>\n",
              "      <td>18.223881</td>\n",
              "      <td>-1.664183e-11</td>\n",
              "      <td>-4.971148e-17</td>\n",
              "      <td>0.314205</td>\n",
              "      <td>3.803529</td>\n",
              "      <td>-1.141914e-15</td>\n",
              "    </tr>\n",
              "    <tr>\n",
              "      <th>std</th>\n",
              "      <td>0.0</td>\n",
              "      <td>20.656425</td>\n",
              "      <td>17.200188</td>\n",
              "      <td>14.954890</td>\n",
              "      <td>1.000000e+00</td>\n",
              "      <td>9.969927e-01</td>\n",
              "      <td>0.257843</td>\n",
              "      <td>1.945583</td>\n",
              "      <td>1.000000e+00</td>\n",
              "    </tr>\n",
              "    <tr>\n",
              "      <th>min</th>\n",
              "      <td>1.0</td>\n",
              "      <td>4.000000</td>\n",
              "      <td>1.000000</td>\n",
              "      <td>0.000000</td>\n",
              "      <td>-1.218590e+00</td>\n",
              "      <td>-1.214925e+00</td>\n",
              "      <td>0.000000</td>\n",
              "      <td>0.000000</td>\n",
              "      <td>-1.954956e+00</td>\n",
              "    </tr>\n",
              "    <tr>\n",
              "      <th>25%</th>\n",
              "      <td>1.0</td>\n",
              "      <td>29.000000</td>\n",
              "      <td>21.000000</td>\n",
              "      <td>6.000000</td>\n",
              "      <td>-8.173835e-01</td>\n",
              "      <td>-8.149254e-01</td>\n",
              "      <td>0.103448</td>\n",
              "      <td>2.449490</td>\n",
              "      <td>-6.959558e-01</td>\n",
              "    </tr>\n",
              "    <tr>\n",
              "      <th>50%</th>\n",
              "      <td>1.0</td>\n",
              "      <td>53.000000</td>\n",
              "      <td>29.000000</td>\n",
              "      <td>15.000000</td>\n",
              "      <td>-2.155737e-01</td>\n",
              "      <td>-2.149254e-01</td>\n",
              "      <td>0.258621</td>\n",
              "      <td>3.872983</td>\n",
              "      <td>3.569826e-02</td>\n",
              "    </tr>\n",
              "    <tr>\n",
              "      <th>75%</th>\n",
              "      <td>1.0</td>\n",
              "      <td>65.000000</td>\n",
              "      <td>42.000000</td>\n",
              "      <td>28.000000</td>\n",
              "      <td>6.537072e-01</td>\n",
              "      <td>6.517413e-01</td>\n",
              "      <td>0.482759</td>\n",
              "      <td>5.291503</td>\n",
              "      <td>7.647956e-01</td>\n",
              "    </tr>\n",
              "    <tr>\n",
              "      <th>max</th>\n",
              "      <td>1.0</td>\n",
              "      <td>86.000000</td>\n",
              "      <td>117.000000</td>\n",
              "      <td>58.000000</td>\n",
              "      <td>2.659740e+00</td>\n",
              "      <td>2.651741e+00</td>\n",
              "      <td>1.000000</td>\n",
              "      <td>7.615773</td>\n",
              "      <td>1.959435e+00</td>\n",
              "    </tr>\n",
              "  </tbody>\n",
              "</table>\n",
              "</div>"
            ],
            "text/plain": [
              "       Index    True Age    Age Felt  ...     Min&Max  Square Root  Zscore_PythonSQ\n",
              "count  134.0  134.000000  134.000000  ...  134.000000   134.000000     1.340000e+02\n",
              "mean     1.0   47.492537   32.134328  ...    0.314205     3.803529    -1.141914e-15\n",
              "std      0.0   20.656425   17.200188  ...    0.257843     1.945583     1.000000e+00\n",
              "min      1.0    4.000000    1.000000  ...    0.000000     0.000000    -1.954956e+00\n",
              "25%      1.0   29.000000   21.000000  ...    0.103448     2.449490    -6.959558e-01\n",
              "50%      1.0   53.000000   29.000000  ...    0.258621     3.872983     3.569826e-02\n",
              "75%      1.0   65.000000   42.000000  ...    0.482759     5.291503     7.647956e-01\n",
              "max      1.0   86.000000  117.000000  ...    1.000000     7.615773     1.959435e+00\n",
              "\n",
              "[8 rows x 9 columns]"
            ]
          },
          "metadata": {
            "tags": []
          },
          "execution_count": 59
        },
        {
          "output_type": "display_data",
          "data": {
            "image/png": "[encoded data removed]",
            "text/plain": [
              "<Figure size 432x288 with 1 Axes>"
            ]
          },
          "metadata": {
            "tags": [],
            "needs_background": "light"
          }
        }
      ]
    },
    {
      "cell_type": "markdown",
      "metadata": {
        "id": "V0Tx-9L1yNmS"
      },
      "source": [
        "**It appears that our simple square root method was the correct one to use no need to remove outliers with z scores**"
      ]
    }
  ]
}